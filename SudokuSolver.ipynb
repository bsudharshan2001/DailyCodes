{
  "nbformat": 4,
  "nbformat_minor": 0,
  "metadata": {
    "colab": {
      "name": "SudokuSolver.ipynb",
      "provenance": [],
      "authorship_tag": "ABX9TyNyUWgSlf52h2at5JVlWiaR",
      "include_colab_link": true
    },
    "kernelspec": {
      "name": "python3",
      "display_name": "Python 3"
    },
    "language_info": {
      "name": "python"
    }
  },
  "cells": [
    {
      "cell_type": "markdown",
      "metadata": {
        "id": "view-in-github",
        "colab_type": "text"
      },
      "source": [
        "<a href=\"https://colab.research.google.com/github/bsudharshan2001/DailyCodes/blob/main/SudokuSolver.ipynb\" target=\"_parent\"><img src=\"https://colab.research.google.com/assets/colab-badge.svg\" alt=\"Open In Colab\"/></a>"
      ]
    },
    {
      "cell_type": "code",
      "metadata": {
        "colab": {
          "base_uri": "https://localhost:8080/"
        },
        "id": "vY4P1JFeknvu",
        "outputId": "5b6257e9-ac3b-4afb-dcfc-e6daa4a84155"
      },
      "source": [
        "grid=[[5,3,0,0,7,0,0,0,0],\n",
        "      [6,0,0,1,9,5,0,0,0],\n",
        "      [0,9,8,0,0,0,0,6,0],\n",
        "      [8,0,0,0,6,0,0,0,3],\n",
        "      [4,0,0,8,0,3,0,0,1],\n",
        "      [7,0,0,0,2,0,0,0,6],\n",
        "      [0,6,0,0,0,0,2,8,0],\n",
        "      [0,0,0,4,1,9,0,0,5],\n",
        "      [0,0,0,0,8,0,0,7,9]]\n",
        "import numpy as np\n",
        "def possible(y,x,n):\n",
        "  global grid\n",
        "  for i in range(0,9):\n",
        "    if(grid[y][i]==n):\n",
        "      return False\n",
        "  for i in range(0,9):\n",
        "    if(grid[i][x]==n):\n",
        "      return False\n",
        "  x0=(x//3)*3\n",
        "  y0=(y//3)*3\n",
        "  for i in range(0,3):\n",
        "    for j in range(0,3):\n",
        "      if(grid[y0+i][x0+j]==n):\n",
        "        return False\n",
        "  return True\n",
        "def solve():\n",
        "  global grid\n",
        "  for y in range(9):\n",
        "    for x in range(9):\n",
        "      if(grid[y][x]==0):\n",
        "        for n in range(1,10):\n",
        "          if possible(y,x,n):\n",
        "            grid[y][x]=n\n",
        "            solve()\n",
        "            grid[y][x]=0\n",
        "        return\n",
        "  print(np.matrix(grid))\n",
        "  input(\"More?\")\n",
        "solve()"
      ],
      "execution_count": 10,
      "outputs": [
        {
          "output_type": "stream",
          "text": [
            "[[5 3 4 6 7 8 9 1 2]\n",
            " [6 7 2 1 9 5 3 4 8]\n",
            " [1 9 8 3 4 2 5 6 7]\n",
            " [8 5 9 7 6 1 4 2 3]\n",
            " [4 2 6 8 5 3 7 9 1]\n",
            " [7 1 3 9 2 4 8 5 6]\n",
            " [9 6 1 5 3 7 2 8 4]\n",
            " [2 8 7 4 1 9 6 3 5]\n",
            " [3 4 5 2 8 6 1 7 9]]\n",
            "More? \n"
          ],
          "name": "stdout"
        }
      ]
    },
    {
      "cell_type": "code",
      "metadata": {
        "id": "zL5TmJU9181u"
      },
      "source": [
        ""
      ],
      "execution_count": 8,
      "outputs": []
    },
    {
      "cell_type": "code",
      "metadata": {
        "id": "8KiKB3sxpP2f"
      },
      "source": [
        ""
      ],
      "execution_count": null,
      "outputs": []
    }
  ]
}